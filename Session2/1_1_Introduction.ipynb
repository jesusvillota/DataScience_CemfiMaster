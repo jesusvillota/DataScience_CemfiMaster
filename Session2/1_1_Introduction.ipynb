{
  "cells": [
    {
      "cell_type": "markdown",
      "metadata": {
        "colab_type": "text",
        "id": "view-in-github"
      },
      "source": [
        "<a href=\"https://colab.research.google.com/github/jesusvillota/CSS_DataScience_2025/blob/main/Session1/1_1_Introduction.ipynb\" target=\"_parent\"><img src=\"https://colab.research.google.com/assets/colab-badge.svg\" alt=\"Open In Colab\"/></a>"
      ]
    },
    {
      "cell_type": "markdown",
      "metadata": {},
      "source": [
        "<div style=\"max-width: 880px; margin: 20px auto 22px; padding: 0px; border-radius: 18px; border: 1px solid #e5e7eb; background: linear-gradient(180deg, #ffffff 0%, #f9fafb 100%); box-shadow: 0 8px 26px rgba(0,0,0,0.06); overflow: hidden;\">\n",
        "\n",
        "  <!-- Banner Header -->\n",
        "  <div style=\"padding: 34px 32px 14px; text-align: center; line-height: 1.38;\">\n",
        "    <div style=\"font-size: 13px; letter-spacing: 0.14em; text-transform: uppercase; color: #6b7280; font-weight: bold; margin-bottom: 5px;\">\n",
        "      Session #1\n",
        "    </div>\n",
        "    <div style=\"font-size: 29px; font-weight: 800; color: #14276c; margin-bottom: 4px;\">\n",
        "      Introduction to Python\n",
        "    </div>\n",
        "    <div style=\"font-size: 16.5px; color: #374151; font-style: italic; margin-bottom: 0;\">\n",
        "      Using Textual Data in Empirical Monetary Economics\n",
        "    </div>\n",
        "  </div>\n",
        "\n",
        "  <!-- Logo Section -->\n",
        "  <div style=\"background: none; text-align: center; margin: 30px 0 10px;\">\n",
        "    <img src=\"https://www.cemfi.es/images/Logo-Azul.png\" alt=\"CEMFI Logo\" style=\"width: 158px; filter: drop-shadow(0 2px 12px rgba(56,84,156,0.05)); margin-bottom: 0;\">\n",
        "  </div>\n",
        "\n",
        "  <!-- Name -->\n",
        "  <div style=\"font-family: 'Times New Roman', Times, serif; color: #38549c; text-align: center; font-size: 1.22em; font-weight: bold; margin-bottom: 0px;\">\n",
        "    Jesus Villota Miranda © 2025\n",
        "  </div>\n",
        "\n",
        "  <!-- Contact info -->\n",
        "  <div style=\"font-family: 'Times New Roman', Times, serif; color: #38549c; text-align: center; font-size: 1em; margin-top: 7px; margin-bottom: 20px;\">\n",
        "    <a href=\"mailto:jesus.villota@cemfi.edu.es\" style=\"color: #38549c; text-decoration: none; margin-right:8px;\" title=\"Email\">\n",
        "      <!-- Email logo -->\n",
        "      <!-- <img src=\"https://cdn-icons-png.flaticon.com/512/11679/11679732.png\" alt=\"Email\" style=\"width:18px; vertical-align:middle; margin-right:5px;\"> -->\n",
        "      jesus.villota@cemfi.edu.es\n",
        "    </a>\n",
        "    <span style=\"color:#9fa7bd;\">|</span>\n",
        "    <a href=\"https://www.linkedin.com/in/jesusvillotamiranda/\" target=\"_blank\" style=\"color: #38549c; text-decoration: none; margin-left:7px;\" title=\"LinkedIn\">\n",
        "      <!-- LinkedIn logo -->\n",
        "      <!-- <img src=\"https://1.bp.blogspot.com/-onvhHUdW1Us/YI52e9j4eKI/AAAAAAAAE4c/6s9wzOpIDYcAo4YmTX1Qg51OlwMFmilFACLcBGAsYHQ/s1600/Logo%2BLinkedin.png\" alt=\"LinkedIn\" style=\"width:17px; vertical-align:middle; margin-right:5px;\"> -->\n",
        "      LinkedIn\n",
        "    </a>\n",
        "  </div>\n",
        "</div>\n"
      ]
    },
    {
      "cell_type": "markdown",
      "metadata": {},
      "source": [
        "**IMPORTANT**: **Are you running this notebook in Google Colab?**\n",
        "\n",
        "- If so, please make sure that in the cell below `running_in_colab` is set to `True`\n",
        "\n",
        "- And, of course,  make sure to **run the cell**!"
      ]
    },
    {
      "cell_type": "code",
      "execution_count": 27,
      "metadata": {},
      "outputs": [],
      "source": [
        "# ARE YOU RUNNING THIS IN GOOGLE COLAB? If YES, type True below\n",
        "running_in_colab = False"
      ]
    },
    {
      "cell_type": "markdown",
      "metadata": {
        "id": "s6RDaSfOwjbB"
      },
      "source": [
        "---"
      ]
    },
    {
      "cell_type": "markdown",
      "metadata": {
        "id": "S9ClnNepy3S-"
      },
      "source": [
        "# **1. Introduction to Google Colab**"
      ]
    },
    {
      "cell_type": "markdown",
      "metadata": {
        "id": "bqJTDXYwydBZ"
      },
      "source": [
        "# Welcome to Google Colab!\n",
        "\n",
        "Google Colab is a free online platform that allows you to write and execute Python code in your browser. It is especially useful for data science and machine learning tasks.\n",
        "\n",
        "## Key Features of Google Colab:\n",
        "- **No Setup Required**: You can start coding immediately.\n",
        "- **Access to GPUs and TPUs**: You can run your code on powerful hardware for free.\n",
        "- **Collaboration**: You can share your notebooks just like you share a Google Doc.\n",
        "- **Integration with Google Drive**: You can save your work directly to your Google Drive.\n",
        "\n",
        "### Getting Started with Google Colab\n",
        "\n",
        "1. **Running Your First Code Cell**: Click on a cell and press `Shift + Enter` to run the code.\n",
        "2. **Mounting Google Drive**: This allows you to access and save files to your Google Drive directly from Colab.\n",
        "\n",
        "Let's start by mounting Google Drive to our Colab environment. This will help us save our progress and access datasets easily.\n"
      ]
    },
    {
      "cell_type": "code",
      "execution_count": 28,
      "metadata": {
        "colab": {
          "base_uri": "https://localhost:8080/"
        },
        "id": "2cAp4WTyzXY8",
        "outputId": "c1f26c91-fb77-4a3b-dd88-e885ecc506c7"
      },
      "outputs": [],
      "source": [
        "if running_in_colab:\n",
        "    # Mounting Google Drive to Colab\n",
        "    from google.colab import drive\n",
        "\n",
        "    # This command will prompt you to authorize access to your Google Drive\n",
        "    drive.mount('/content/drive')\n",
        "\n",
        "    # After running this command, you will see a link to authenticate your Google account.\n",
        "    # Click the link, sign in with your Google account, and copy the authorization code.\n",
        "    # Paste the authorization code in the output field to complete the mounting process.\n",
        "\n",
        "    # Accessing Google Drive files\n",
        "    # You can now navigate your Google Drive using file paths.\n",
        "    # For example:\n",
        "    !ls \"/content/drive/My Drive\""
      ]
    },
    {
      "cell_type": "markdown",
      "metadata": {
        "id": "K9RrQAQlz4zk"
      },
      "source": [
        "---\n",
        "---\n"
      ]
    },
    {
      "cell_type": "markdown",
      "metadata": {
        "id": "kHEUlE61zjeK"
      },
      "source": [
        "\n",
        "# **2. Basic Python Syntax**"
      ]
    },
    {
      "cell_type": "code",
      "execution_count": 29,
      "metadata": {
        "colab": {
          "base_uri": "https://localhost:8080/"
        },
        "id": "0ZRXif-zxbZv",
        "outputId": "129c478a-1050-4cf3-a352-746dbf8a8833"
      },
      "outputs": [
        {
          "name": "stdout",
          "output_type": "stream",
          "text": [
            "Addition: 2 + 3 = 5\n",
            "Subtraction: 5 - 2 = 3\n",
            "Multiplication: 4 * 3 = 12\n",
            "Division: 10 / 2 = 5.0\n",
            "Exponentiation: 2 ** 3 = 8\n",
            "Floor Division: 10 // 3 = 3\n",
            "Modulus: 10 % 3 = 1\n"
          ]
        }
      ],
      "source": [
        "# Python as a Calculator\n",
        "# Let's do some simple math\n",
        "\n",
        "print(\"Addition: 2 + 3 =\", 2 + 3)\n",
        "print(\"Subtraction: 5 - 2 =\", 5 - 2)\n",
        "print(\"Multiplication: 4 * 3 =\", 4 * 3)\n",
        "print(\"Division: 10 / 2 =\", 10 / 2)\n",
        "print(\"Exponentiation: 2 ** 3 =\", 2 ** 3)\n",
        "print(\"Floor Division: 10 // 3 =\", 10 // 3)\n",
        "print(\"Modulus: 10 % 3 =\", 10 % 3)"
      ]
    },
    {
      "cell_type": "code",
      "execution_count": 30,
      "metadata": {
        "colab": {
          "base_uri": "https://localhost:8080/"
        },
        "id": "PwgkW1zSywFr",
        "outputId": "8829310c-9a66-4ef5-802b-a1a5392be395"
      },
      "outputs": [
        {
          "name": "stdout",
          "output_type": "stream",
          "text": [
            "Integer: 10 <class 'int'>\n",
            "Float: 3.14 <class 'float'>\n",
            "String: Hello, Colab! <class 'str'>\n"
          ]
        }
      ],
      "source": [
        "# Variables and Data Types\n",
        "# In Python, you can store values in variables.\n",
        "\n",
        "a = 10  # integer\n",
        "b = 3.14  # float\n",
        "c = \"Hello, Colab!\"  # string\n",
        "\n",
        "print(\"Integer:\", a, type(a))\n",
        "print(\"Float:\", b, type(b))\n",
        "print(\"String:\", c, type(c))\n"
      ]
    },
    {
      "cell_type": "markdown",
      "metadata": {
        "id": "AG6zv68a0ANg"
      },
      "source": [
        "---\n",
        "---"
      ]
    },
    {
      "cell_type": "markdown",
      "metadata": {
        "id": "Xk251UDoztPX"
      },
      "source": [
        "# **3. Data Structures in Python: Introduction to Lists, Dictionaries, and Tuples**"
      ]
    },
    {
      "cell_type": "code",
      "execution_count": 31,
      "metadata": {
        "colab": {
          "base_uri": "https://localhost:8080/"
        },
        "id": "qu1KFWv5zssf",
        "outputId": "3b075cb7-424c-4fd1-878c-152f83ccec22"
      },
      "outputs": [
        {
          "name": "stdout",
          "output_type": "stream",
          "text": [
            "List: [1, 2, 3, 4, 5]\n",
            "First element: 1\n",
            "Updated List: [1, 2, 3, 4, 5, 6]\n"
          ]
        }
      ],
      "source": [
        "# Lists - ordered, mutable collection of items\n",
        "\n",
        "my_list = [1, 2, 3, 4, 5]\n",
        "print(\"List:\", my_list)\n",
        "print(\"First element:\", my_list[0])\n",
        "\n",
        "# Appending to a list\n",
        "my_list.append(6)\n",
        "print(\"Updated List:\", my_list)\n"
      ]
    },
    {
      "cell_type": "code",
      "execution_count": 32,
      "metadata": {
        "colab": {
          "base_uri": "https://localhost:8080/"
        },
        "id": "1b3yRClv0RAN",
        "outputId": "edeb295c-2c80-4d1b-e210-8141b44fc19f"
      },
      "outputs": [
        {
          "name": "stdout",
          "output_type": "stream",
          "text": [
            "Tuple: (1, 2, 3, 4)\n",
            "Last element: 4\n"
          ]
        }
      ],
      "source": [
        "# Tuples - ordered, immutable collections of items\n",
        "\n",
        "my_tuple = (1, 2, 3, 4)\n",
        "print(\"Tuple:\", my_tuple)\n",
        "print(\"Last element:\", my_tuple[-1])"
      ]
    },
    {
      "cell_type": "code",
      "execution_count": 33,
      "metadata": {
        "colab": {
          "base_uri": "https://localhost:8080/"
        },
        "id": "OMRdccof0Im8",
        "outputId": "4b13b394-dda6-46c6-9a97-fd0da0eb2a36"
      },
      "outputs": [
        {
          "name": "stdout",
          "output_type": "stream",
          "text": [
            "Dictionary: {'name': 'Alice', 'age': 25, 'city': 'New York'}\n",
            "Name: Alice\n",
            "Updated Dictionary: {'name': 'Alice', 'age': 25, 'city': 'New York', 'email': 'alice@example.com'}\n"
          ]
        }
      ],
      "source": [
        "# Dictionaries - unordered, mutable collections of key-value pairs\n",
        "\n",
        "my_dict = {\"name\": \"Alice\", \"age\": 25, \"city\": \"New York\"}\n",
        "print(\"Dictionary:\", my_dict)\n",
        "print(\"Name:\", my_dict[\"name\"])\n",
        "\n",
        "# Adding a new key-value pair\n",
        "my_dict[\"email\"] = \"alice@example.com\"\n",
        "print(\"Updated Dictionary:\", my_dict)\n"
      ]
    },
    {
      "cell_type": "markdown",
      "metadata": {
        "id": "M5cbgNeE0mks"
      },
      "source": [
        "---\n",
        "---\n",
        "# **4. Control Structures: Conditional Statements and Loops**"
      ]
    },
    {
      "cell_type": "code",
      "execution_count": 34,
      "metadata": {
        "colab": {
          "base_uri": "https://localhost:8080/"
        },
        "id": "pxD-gZew0poW",
        "outputId": "3486416a-c68e-4fce-88f9-c4858f937a47"
      },
      "outputs": [
        {
          "name": "stdout",
          "output_type": "stream",
          "text": [
            "x is positive\n"
          ]
        }
      ],
      "source": [
        "# Conditional Statements\n",
        "x = 5\n",
        "\n",
        "if x > 0:\n",
        "    print(\"x is positive\")\n",
        "elif x == 0:\n",
        "    print(\"x is zero\")\n",
        "else:\n",
        "    print(\"x is negative\")\n"
      ]
    },
    {
      "cell_type": "code",
      "execution_count": 35,
      "metadata": {
        "colab": {
          "base_uri": "https://localhost:8080/"
        },
        "id": "Jrcn9KDx0uBv",
        "outputId": "fb3cc77c-ca35-460a-90e1-4b0fcd0d0a30"
      },
      "outputs": [
        {
          "name": "stdout",
          "output_type": "stream",
          "text": [
            "For Loop Example:\n",
            "0\n",
            "1\n",
            "2\n",
            "3\n",
            "4\n",
            "\n",
            "While Loop Example:\n",
            "0\n",
            "1\n",
            "2\n",
            "3\n",
            "4\n"
          ]
        }
      ],
      "source": [
        "# Loops\n",
        "\n",
        "# For loop\n",
        "print(\"For Loop Example:\")\n",
        "for i in range(5):\n",
        "    print(i)\n",
        "\n",
        "# While loop\n",
        "print(\"\\nWhile Loop Example:\")\n",
        "i = 0\n",
        "while i < 5:\n",
        "    print(i)\n",
        "    i += 1\n"
      ]
    },
    {
      "cell_type": "markdown",
      "metadata": {
        "id": "VFIGy_KF0_Rd"
      },
      "source": [
        "---\n",
        "---\n",
        "# **5. Functions in Python**"
      ]
    },
    {
      "cell_type": "code",
      "execution_count": 36,
      "metadata": {
        "colab": {
          "base_uri": "https://localhost:8080/"
        },
        "id": "l-VG4Jps0-q3",
        "outputId": "f403e19d-7bc8-46c9-d50a-aaa86772d9a3"
      },
      "outputs": [
        {
          "data": {
            "text/plain": [
              "'Hello, Alice!'"
            ]
          },
          "execution_count": 36,
          "metadata": {},
          "output_type": "execute_result"
        }
      ],
      "source": [
        "# Defining a Function\n",
        "def greet(name):\n",
        "    return f\"Hello, {name}!\"\n",
        "\n",
        "# Calling a Function\n",
        "greet(\"Alice\")"
      ]
    },
    {
      "cell_type": "code",
      "execution_count": 37,
      "metadata": {
        "colab": {
          "base_uri": "https://localhost:8080/"
        },
        "id": "3HlEI6MN1aXF",
        "outputId": "85d958c5-9e27-496d-a2a5-3443fbc5ec92"
      },
      "outputs": [
        {
          "name": "stdout",
          "output_type": "stream",
          "text": [
            "Edge case: Input must be a non-negative integer.\n",
            "Factorial of 5: 120\n",
            "Factorial of 0: 1\n",
            "Factorial of 7: 5040\n"
          ]
        }
      ],
      "source": [
        "# Functions can also be made recursive! For example... calculating the factorial\n",
        "\n",
        "# Quick Math Reminder: A factorial of a non-negative integer n is the product of all positive integers less than or equal to n.\n",
        "# For example, factorial(5) = 5 * 4 * 3 * 2 * 1 = 120\n",
        "\n",
        "def factorial(n):\n",
        "    \"\"\"\n",
        "    Recursive function to calculate the factorial of a number.\n",
        "\n",
        "    Parameters:\n",
        "    n (int): The number to calculate the factorial of. Must be a non-negative integer.\n",
        "\n",
        "    Returns:\n",
        "    int: Factorial of the given number.\n",
        "    \"\"\"\n",
        "\n",
        "    # Base case: factorial of 0 or 1 is 1\n",
        "    if n < 0:\n",
        "        raise ValueError(\"Input must be a non-negative integer.\")\n",
        "    elif n == 0 or n == 1:\n",
        "        return 1\n",
        "    else:\n",
        "        # Recursive case: n * factorial(n-1)\n",
        "        return n * factorial(n - 1)\n",
        "\n",
        "# Let's test the function with a few examples\n",
        "try:\n",
        "    print(\"Edge case:\", factorial(-10))\n",
        "except ValueError as e:\n",
        "    print(\"Edge case:\", e)\n",
        "\n",
        "print(\"Factorial of 5:\", factorial(5))  # Output should be 120\n",
        "print(\"Factorial of 0:\", factorial(0))  # Output should be 1\n",
        "print(\"Factorial of 7:\", factorial(7))  # Output should be 5040\n"
      ]
    },
    {
      "cell_type": "markdown",
      "metadata": {
        "id": "3gHHAT-D18s-"
      },
      "source": [
        "---\n",
        "---\n",
        "\n",
        "# **6. Working with NumPy and Pandas**"
      ]
    },
    {
      "cell_type": "markdown",
      "metadata": {
        "id": "i2Tlq08X2Yzq"
      },
      "source": [
        "### **6.1 Creating DataFrames**\n",
        "\n",
        "Pandas provides various methods to create DataFrames, not only from dictionaries but also from lists, NumPy arrays, and other data structures."
      ]
    },
    {
      "cell_type": "code",
      "execution_count": 38,
      "metadata": {
        "colab": {
          "base_uri": "https://localhost:8080/"
        },
        "id": "xJlkqdm21_cu",
        "outputId": "ecf6787d-9617-4a6e-80e2-fccfc5d8fcfd"
      },
      "outputs": [
        {
          "name": "stdout",
          "output_type": "stream",
          "text": [
            "DataFrame from Dictionary:\n",
            "       Name  Age           City\n",
            "0    Alice   25       New York\n",
            "1      Bob   30  San Francisco\n",
            "2  Charlie   35    Los Angeles\n",
            "3    David   40        Chicago\n",
            "\n",
            "DataFrame from List of Lists:\n",
            "       Name  Age           City\n",
            "0    Alice   25       New York\n",
            "1      Bob   30  San Francisco\n",
            "2  Charlie   35    Los Angeles\n",
            "3    David   40        Chicago\n",
            "\n",
            "DataFrame from NumPy Array:\n",
            "       Name Age           City\n",
            "0    Alice  25       New York\n",
            "1      Bob  30  San Francisco\n",
            "2  Charlie  35    Los Angeles\n",
            "3    David  40        Chicago\n"
          ]
        }
      ],
      "source": [
        "import pandas as pd\n",
        "import numpy as np\n",
        "\n",
        "# Creating a DataFrame from a dictionary\n",
        "data_dict = {\n",
        "            'Name': ['Alice', 'Bob', 'Charlie', 'David'],\n",
        "            'Age': [25, 30, 35, 40],\n",
        "            'City': ['New York', 'San Francisco', 'Los Angeles', 'Chicago']\n",
        "            }\n",
        "df_dict = pd.DataFrame(data_dict)\n",
        "print(\"DataFrame from Dictionary:\\n\", df_dict)\n",
        "\n",
        "# Creating a DataFrame from a list of lists\n",
        "data_list = [\n",
        "            ['Alice', 25, 'New York'],\n",
        "            ['Bob', 30, 'San Francisco'],\n",
        "            ['Charlie', 35, 'Los Angeles'],\n",
        "            ['David', 40, 'Chicago']\n",
        "             ]\n",
        "df_list = pd.DataFrame(data_list, columns=['Name', 'Age', 'City'])\n",
        "print(\"\\nDataFrame from List of Lists:\\n\", df_list)\n",
        "\n",
        "# Creating a DataFrame from a NumPy array\n",
        "data_array = np.array(\n",
        "    [['Alice', 25, 'New York'],\n",
        "     ['Bob', 30, 'San Francisco'],\n",
        "     ['Charlie', 35, 'Los Angeles'],\n",
        "     ['David', 40, 'Chicago']]\n",
        ")\n",
        "df_array = pd.DataFrame(data_array, columns=['Name', 'Age', 'City'])\n",
        "print(\"\\nDataFrame from NumPy Array:\\n\", df_array)\n"
      ]
    },
    {
      "cell_type": "markdown",
      "metadata": {
        "id": "nH0XhnIx2kg4"
      },
      "source": [
        "### **6.2 DataFrame Indexing and Selection**\n",
        "\n",
        "Pandas offers several methods for selecting and filtering data within a DataFrame, such as `.loc[]`, `.iloc[]`, and boolean indexing."
      ]
    },
    {
      "cell_type": "code",
      "execution_count": 39,
      "metadata": {
        "colab": {
          "base_uri": "https://localhost:8080/"
        },
        "id": "b1Pj6x_u2sQ8",
        "outputId": "3dfe15c5-c7cb-4513-d9d7-47fc4f0e2497"
      },
      "outputs": [
        {
          "name": "stdout",
          "output_type": "stream",
          "text": [
            "\n",
            "Selecting rows with .loc:\n",
            "      Name           City\n",
            "1      Bob  San Francisco\n",
            "2  Charlie    Los Angeles\n",
            "3    David        Chicago\n",
            "\n",
            "Selecting rows and columns with .iloc:\n",
            "    Name  Age\n",
            "0  Alice   25\n",
            "1    Bob   30\n",
            "\n",
            "Filtering DataFrame with Boolean Indexing (Age > 30):\n",
            "      Name  Age         City\n",
            "2  Charlie   35  Los Angeles\n",
            "3    David   40      Chicago\n"
          ]
        }
      ],
      "source": [
        "# Selecting specific rows and columns with .loc (label-based indexing)\n",
        "print(\"\\nSelecting rows with .loc:\")\n",
        "print(df_dict.loc[1:3, ['Name', 'City']])\n",
        "\n",
        "# Selecting rows and columns with .iloc (integer-based indexing)\n",
        "print(\"\\nSelecting rows and columns with .iloc:\")\n",
        "print(df_dict.iloc[0:2, 0:2])\n",
        "\n",
        "# Boolean Indexing\n",
        "print(\"\\nFiltering DataFrame with Boolean Indexing (Age > 30):\")\n",
        "print(df_dict[df_dict['Age'] > 30])\n"
      ]
    },
    {
      "cell_type": "markdown",
      "metadata": {
        "id": "9MPJU7Ba3Htw"
      },
      "source": [
        "### **6.3 Data Cleaning and Handling Missing Values**\n",
        "\n",
        "Data cleaning is a critical step in data preprocessing. Here, we demonstrate handling missing values using Pandas."
      ]
    },
    {
      "cell_type": "code",
      "execution_count": 40,
      "metadata": {
        "colab": {
          "base_uri": "https://localhost:8080/"
        },
        "id": "1gy-Gc433HQ2",
        "outputId": "71fb875c-61e7-4d42-f58e-7c91e584407d"
      },
      "outputs": [
        {
          "name": "stdout",
          "output_type": "stream",
          "text": [
            "\n",
            "DataFrame with Missing Values:\n",
            "     Name   Age           City\n",
            "0  Alice  25.0       New York\n",
            "1    Bob   NaN  San Francisco\n",
            "2   None  35.0    Los Angeles\n",
            "3  David  40.0           None\n",
            "\n",
            "Checking for Missing Values:\n",
            "     Name    Age   City\n",
            "0  False  False  False\n",
            "1  False   True  False\n",
            "2   True  False  False\n",
            "3  False  False   True\n",
            "\n",
            "Dropping rows with missing values:\n",
            "     Name   Age      City\n",
            "0  Alice  25.0  New York\n",
            "\n",
            "Filling missing values with a specific value:\n",
            "      Name        Age           City\n",
            "0    Alice  25.000000       New York\n",
            "1      Bob  33.333333  San Francisco\n",
            "2  Unknown  35.000000    Los Angeles\n",
            "3    David  40.000000        Unknown\n"
          ]
        }
      ],
      "source": [
        "# Creating a DataFrame with missing values\n",
        "data_with_nan = {'Name': ['Alice', 'Bob', None, 'David'],\n",
        "                 'Age': [25, None, 35, 40],\n",
        "                 'City': ['New York', 'San Francisco', 'Los Angeles', None]}\n",
        "df_nan = pd.DataFrame(data_with_nan)\n",
        "print(\"\\nDataFrame with Missing Values:\\n\", df_nan)\n",
        "\n",
        "# Checking for missing values\n",
        "print(\"\\nChecking for Missing Values:\\n\", df_nan.isnull())\n",
        "\n",
        "# Dropping rows with missing values\n",
        "print(\"\\nDropping rows with missing values:\\n\", df_nan.dropna())\n",
        "\n",
        "# Filling missing values\n",
        "print(\"\\nFilling missing values with a specific value:\")\n",
        "df_filled = df_nan.fillna({'Name': 'Unknown', 'Age': df_nan['Age'].mean(), 'City': 'Unknown'})\n",
        "print(df_filled)\n"
      ]
    },
    {
      "cell_type": "markdown",
      "metadata": {
        "id": "WNmwgk1a3g86"
      },
      "source": [
        "### **6.4 Data Aggregation and Grouping**\n",
        "\n",
        "Grouping data is a powerful feature in Pandas for aggregating data."
      ]
    },
    {
      "cell_type": "code",
      "execution_count": 41,
      "metadata": {
        "colab": {
          "base_uri": "https://localhost:8080/"
        },
        "id": "7xaZ4gP93imU",
        "outputId": "01c57c58-fdbb-463e-dd58-5990b70205a2"
      },
      "outputs": [
        {
          "name": "stdout",
          "output_type": "stream",
          "text": [
            "\n",
            "Grouping by City and calculating average age:\n",
            "                Age\n",
            "City               \n",
            "Chicago        40.0\n",
            "Los Angeles    35.0\n",
            "New York       25.0\n",
            "San Francisco  30.0\n",
            "\n",
            "Grouping by City and Name and calculating count:\n",
            "City           Name   \n",
            "Chicago        David      1\n",
            "Los Angeles    Charlie    1\n",
            "New York       Alice      1\n",
            "San Francisco  Bob        1\n",
            "dtype: int64\n"
          ]
        }
      ],
      "source": [
        "# Grouping data by a single column and calculating aggregate statistics\n",
        "print(\"\\nGrouping by City and calculating average age:\")\n",
        "grouped = df_dict.groupby('City').agg({'Age': 'mean'})\n",
        "print(grouped)\n",
        "\n",
        "# Grouping by multiple columns\n",
        "print(\"\\nGrouping by City and Name and calculating count:\")\n",
        "grouped_multi = df_dict.groupby(['City', 'Name']).size()\n",
        "print(grouped_multi)"
      ]
    },
    {
      "cell_type": "markdown",
      "metadata": {
        "id": "GEiY9xRT4cDb"
      },
      "source": [
        "### **6.5 Merging and Joining DataFrames**\n",
        "\n",
        "Pandas allows for combining multiple DataFrames using merging and joining operations."
      ]
    },
    {
      "cell_type": "code",
      "execution_count": 42,
      "metadata": {
        "colab": {
          "base_uri": "https://localhost:8080/"
        },
        "id": "Ffu4SyZ04g_D",
        "outputId": "f2dcd60a-e199-4278-a211-6289ca73440f"
      },
      "outputs": [
        {
          "name": "stdout",
          "output_type": "stream",
          "text": [
            "\n",
            "Merging DataFrames on Key column by INNER join (intersection):\n",
            "  Key  Value_left  Value_right\n",
            "0   A           1            5\n",
            "1   B           2            6\n",
            "\n",
            "Merging DataFrames on Key column by OUTER join (union):\n",
            "  Key  Value_left  Value_right\n",
            "0   A         1.0          5.0\n",
            "1   B         2.0          6.0\n",
            "2   C         3.0          NaN\n",
            "3   D         4.0          NaN\n",
            "4   E         NaN          7.0\n",
            "5   F         NaN          8.0\n"
          ]
        }
      ],
      "source": [
        "# Creating two DataFrames to demonstrate merging\n",
        "df_left = pd.DataFrame({'Key': ['A', 'B', 'C', 'D'], 'Value': [1, 2, 3, 4]})\n",
        "df_right = pd.DataFrame({'Key': ['A', 'B', 'E', 'F'], 'Value': [5, 6, 7, 8]})\n",
        "\n",
        "# Merging DataFrames on a common column\n",
        "print(\"\\nMerging DataFrames on Key column by INNER join (intersection):\")\n",
        "df_merged = pd.merge(df_left, df_right, on='Key', how='inner', suffixes=('_left', '_right'))\n",
        "print(df_merged)\n",
        "\n",
        "# Performing an outer join\n",
        "print(\"\\nMerging DataFrames on Key column by OUTER join (union):\")\n",
        "df_outer = pd.merge(df_left, df_right, on='Key', how='outer', suffixes=('_left', '_right'))\n",
        "print(df_outer)\n"
      ]
    },
    {
      "cell_type": "markdown",
      "metadata": {
        "id": "PQuj4Y_a5Ikm"
      },
      "source": [
        "### **6.6 Advanced Data Manipulation Techniques**\n",
        "\n",
        "Using advanced data manipulation techniques like applying custom functions to DataFrame columns."
      ]
    },
    {
      "cell_type": "code",
      "execution_count": 43,
      "metadata": {
        "colab": {
          "base_uri": "https://localhost:8080/"
        },
        "id": "dFOqBwSb5Kk_",
        "outputId": "bbcdd25a-45e5-46b2-95d3-51acb8b9ee2a"
      },
      "outputs": [
        {
          "name": "stdout",
          "output_type": "stream",
          "text": [
            "\n",
            "DataFrame with custom Age Category column:\n",
            "       Name  Age           City Age Category\n",
            "0    Alice   25       New York        Young\n",
            "1      Bob   30  San Francisco  Middle-aged\n",
            "2  Charlie   35    Los Angeles  Middle-aged\n",
            "3    David   40        Chicago          Old\n",
            "\n",
            "Adding a new column based on conditions using `apply` and lambda:\n",
            "      Name  Age           City Age Category  Age Square\n",
            "0    Alice   25       New York        Young         625\n",
            "1      Bob   30  San Francisco  Middle-aged         900\n",
            "2  Charlie   35    Los Angeles  Middle-aged        1225\n",
            "3    David   40        Chicago          Old        1600\n"
          ]
        }
      ],
      "source": [
        "# Applying a custom function to a DataFrame column\n",
        "def age_category(age):\n",
        "    if age < 30:\n",
        "        return 'Young'\n",
        "    elif 30 <= age < 40:\n",
        "        return 'Middle-aged'\n",
        "    else:\n",
        "        return 'Old'\n",
        "\n",
        "df_dict['Age Category'] = df_dict['Age'].apply(age_category)\n",
        "print(\"\\nDataFrame with custom Age Category column:\\n\", df_dict)\n",
        "\n",
        "# Using `apply` with lambda functions for multiple columns\n",
        "print(\"\\nAdding a new column based on conditions using `apply` and lambda:\")\n",
        "df_dict['Age Square'] = df_dict['Age'].apply(lambda x: x ** 2)\n",
        "print(df_dict)\n"
      ]
    },
    {
      "cell_type": "markdown",
      "metadata": {
        "id": "m0imLY8D6pVM"
      },
      "source": [
        "---\n",
        "---\n",
        "# **7. Data Visualization with Matplotlib and Seaborn**"
      ]
    },
    {
      "cell_type": "markdown",
      "metadata": {
        "id": "EOwGTAM664AA"
      },
      "source": [
        "### **7.1 Introduction to Matplotlib**\n",
        "\n",
        "We will start with a bar plot to visualize GDP growth rates for different countries."
      ]
    },
    {
      "cell_type": "code",
      "execution_count": 44,
      "metadata": {
        "colab": {
          "base_uri": "https://localhost:8080/",
          "height": 487
        },
        "id": "HsEtZ-vA63fA",
        "outputId": "e5507496-2df4-491e-a66b-5bcdacbe0073"
      },
      "outputs": [
        {
          "data": {
            "image/png": "[encoded data removed]",
            "text/plain": [
              "<Figure size 800x500 with 1 Axes>"
            ]
          },
          "metadata": {},
          "output_type": "display_data"
        }
      ],
      "source": [
        "# Importing the necessary library\n",
        "import matplotlib.pyplot as plt\n",
        "\n",
        "# Sample Data: GDP Growth Rates for Different Countries\n",
        "countries = ['USA', 'China', 'Germany', 'India', 'Brazil']\n",
        "gdp_growth = [2.3, 6.1, 1.4, 4.8, 1.1]\n",
        "\n",
        "# Creating a bar plot for GDP growth rates\n",
        "plt.figure(figsize=(8, 5))\n",
        "plt.bar(countries, gdp_growth, color='skyblue')\n",
        "plt.title('made-up GDP Growth Rates (2024)')\n",
        "plt.xlabel('Country')\n",
        "plt.ylabel('GDP Growth Rate (%)')\n",
        "plt.show()\n"
      ]
    },
    {
      "cell_type": "markdown",
      "metadata": {
        "id": "YGz5ntnC6-KR"
      },
      "source": [
        "### **7.2 Line Plot**\n",
        "\n",
        "Line plots are useful for showing trends over time. Here, we visualize the unemployment rate trend over a period of months."
      ]
    },
    {
      "cell_type": "code",
      "execution_count": 45,
      "metadata": {
        "colab": {
          "base_uri": "https://localhost:8080/",
          "height": 487
        },
        "id": "ZP9d6JJ37Bt_",
        "outputId": "265687fe-027b-4383-9a94-8541d2db10ec"
      },
      "outputs": [
        {
          "data": {
            "image/png": "[encoded data removed]",
            "text/plain": [
              "<Figure size 800x500 with 1 Axes>"
            ]
          },
          "metadata": {},
          "output_type": "display_data"
        }
      ],
      "source": [
        "# Sample Data: Monthly Unemployment Rate\n",
        "months = ['Jan', 'Feb', 'Mar', 'Apr', 'May', 'Jun', 'Jul', 'Aug', 'Sep', 'Oct', 'Nov', 'Dec']\n",
        "unemployment_rate = [5.2, 5.0, 4.8, 4.7, 4.6, 4.5, 4.5, 4.6, 4.7, 4.8, 5.0, 5.2]\n",
        "\n",
        "# Creating a line plot for the unemployment rate\n",
        "plt.figure(figsize=(8, 5))\n",
        "plt.plot(months, unemployment_rate, marker='o', linestyle='-', color='green')\n",
        "plt.title('made-up Monthly Unemployment Rate (2023)')\n",
        "plt.xlabel('Month')\n",
        "plt.ylabel('Unemployment Rate (%)')\n",
        "plt.grid(True)\n",
        "plt.show()\n"
      ]
    },
    {
      "cell_type": "markdown",
      "metadata": {
        "id": "X6ViBro57Jnd"
      },
      "source": [
        "**7.3 Histogram**\n",
        "\n",
        "Histograms can be used to show the distribution of economic data, such as household incomes."
      ]
    },
    {
      "cell_type": "code",
      "execution_count": 46,
      "metadata": {
        "colab": {
          "base_uri": "https://localhost:8080/",
          "height": 487
        },
        "id": "4g06YbdD7LM6",
        "outputId": "ff8e2065-9ffc-43ba-9590-3c4b9e4a7ed0"
      },
      "outputs": [
        {
          "data": {
            "image/png": "[encoded data removed]",
            "text/plain": [
              "<Figure size 800x500 with 1 Axes>"
            ]
          },
          "metadata": {},
          "output_type": "display_data"
        }
      ],
      "source": [
        "# Sample Data: Household Income Distribution\n",
        "import numpy as np\n",
        "\n",
        "income_data = np.random.normal(50000, 15000, 1000)  # Generating mock income data\n",
        "\n",
        "# Creating a histogram of household incomes\n",
        "plt.figure(figsize=(8, 5))\n",
        "plt.hist(income_data, bins=30, color='purple', alpha=0.7)\n",
        "plt.title('Household Income Distribution')\n",
        "plt.xlabel('Income ($)')\n",
        "plt.ylabel('Frequency')\n",
        "plt.show()\n"
      ]
    },
    {
      "cell_type": "markdown",
      "metadata": {
        "id": "DH6KBNqu7Pmc"
      },
      "source": [
        "### **7.4 Scatter Plot**\n",
        "\n",
        "Scatter plots can be used to visualize the relationship between two economic indicators, such as inflation and unemployment (often discussed in the context of the Phillips curve)."
      ]
    },
    {
      "cell_type": "code",
      "execution_count": 47,
      "metadata": {
        "colab": {
          "base_uri": "https://localhost:8080/",
          "height": 487
        },
        "id": "E1vws8Jz7Ru5",
        "outputId": "be05caf7-035d-428b-ceb5-c876eb96ee6f"
      },
      "outputs": [
        {
          "data": {
            "image/png": "[encoded data removed]",
            "text/plain": [
              "<Figure size 800x500 with 1 Axes>"
            ]
          },
          "metadata": {},
          "output_type": "display_data"
        }
      ],
      "source": [
        "# Sample Data: Inflation vs. Unemployment Rate\n",
        "inflation_rate = [2.1, 2.3, 1.8, 2.5, 2.7, 2.9, 3.1, 3.0, 3.2, 3.4]\n",
        "unemployment_rate = [5.0, 4.9, 5.1, 4.8, 4.7, 4.6, 4.5, 4.6, 4.4, 4.3]\n",
        "\n",
        "# Creating a scatter plot for Inflation vs. Unemployment\n",
        "plt.figure(figsize=(8, 5))\n",
        "plt.scatter(inflation_rate, unemployment_rate, color='red')\n",
        "plt.title('Inflation Rate vs. Unemployment Rate')\n",
        "plt.xlabel('Inflation Rate (%)')\n",
        "plt.ylabel('Unemployment Rate (%)')\n",
        "plt.show()\n"
      ]
    },
    {
      "cell_type": "markdown",
      "metadata": {
        "id": "WgRJL8Lj7Xad"
      },
      "source": [
        "### **7.5 Introduction to Seaborn**\n",
        "\n",
        "Seaborn allows for creating more advanced plots with ease. We will use it to visualize the distribution of consumer price index (CPI) data."
      ]
    },
    {
      "cell_type": "code",
      "execution_count": 48,
      "metadata": {
        "colab": {
          "base_uri": "https://localhost:8080/",
          "height": 487
        },
        "id": "ar3WkFnK7bsO",
        "outputId": "8f5164b8-6653-4ab8-e5bc-342af999d053"
      },
      "outputs": [
        {
          "data": {
            "application/vnd.microsoft.datawrangler.viewer.v0+json": {
              "columns": [
                {
                  "name": "index",
                  "rawType": "int64",
                  "type": "integer"
                },
                {
                  "name": "Country",
                  "rawType": "object",
                  "type": "string"
                },
                {
                  "name": "Year",
                  "rawType": "int64",
                  "type": "integer"
                },
                {
                  "name": "GDP Growth",
                  "rawType": "float64",
                  "type": "float"
                },
                {
                  "name": "CPI",
                  "rawType": "float64",
                  "type": "float"
                }
              ],
              "ref": "9bf5b914-e0e9-4ae9-85f1-4bbe0a8cbac2",
              "rows": [
                [
                  "0",
                  "USA",
                  "2015",
                  "2.6",
                  "0.1"
                ],
                [
                  "1",
                  "USA",
                  "2016",
                  "2.9",
                  "1.3"
                ],
                [
                  "2",
                  "USA",
                  "2017",
                  "2.4",
                  "2.1"
                ],
                [
                  "3",
                  "USA",
                  "2018",
                  "2.8",
                  "2.4"
                ],
                [
                  "4",
                  "USA",
                  "2019",
                  "2.3",
                  "1.8"
                ],
                [
                  "5",
                  "USA",
                  "2020",
                  "2.2",
                  "1.2"
                ],
                [
                  "6",
                  "USA",
                  "2021",
                  "-3.4",
                  "1.4"
                ],
                [
                  "7",
                  "USA",
                  "2022",
                  "5.8",
                  "2.6"
                ],
                [
                  "8",
                  "USA",
                  "2023",
                  "2.2",
                  "3.2"
                ],
                [
                  "9",
                  "USA",
                  "2024",
                  "2.5",
                  "3.0"
                ],
                [
                  "10",
                  "Germany",
                  "2015",
                  "1.8",
                  "0.3"
                ],
                [
                  "11",
                  "Germany",
                  "2016",
                  "2.5",
                  "0.5"
                ],
                [
                  "12",
                  "Germany",
                  "2017",
                  "2.6",
                  "1.7"
                ],
                [
                  "13",
                  "Germany",
                  "2018",
                  "1.7",
                  "1.4"
                ],
                [
                  "14",
                  "Germany",
                  "2019",
                  "0.8",
                  "1.5"
                ],
                [
                  "15",
                  "Germany",
                  "2020",
                  "-4.6",
                  "0.5"
                ],
                [
                  "16",
                  "Germany",
                  "2021",
                  "2.8",
                  "3.1"
                ],
                [
                  "17",
                  "Germany",
                  "2022",
                  "1.9",
                  "6.9"
                ],
                [
                  "18",
                  "Germany",
                  "2023",
                  "1.3",
                  "5.9"
                ],
                [
                  "19",
                  "Germany",
                  "2024",
                  "1.5",
                  "2.2"
                ],
                [
                  "20",
                  "Spain",
                  "2015",
                  "3.6",
                  "0.0"
                ],
                [
                  "21",
                  "Spain",
                  "2016",
                  "3.2",
                  "-0.2"
                ],
                [
                  "22",
                  "Spain",
                  "2017",
                  "3.0",
                  "1.6"
                ],
                [
                  "23",
                  "Spain",
                  "2018",
                  "2.6",
                  "1.2"
                ],
                [
                  "24",
                  "Spain",
                  "2019",
                  "2.0",
                  "0.7"
                ],
                [
                  "25",
                  "Spain",
                  "2020",
                  "-10.8",
                  "-0.3"
                ],
                [
                  "26",
                  "Spain",
                  "2021",
                  "5.5",
                  "3.2"
                ],
                [
                  "27",
                  "Spain",
                  "2022",
                  "4.7",
                  "8.4"
                ],
                [
                  "28",
                  "Spain",
                  "2023",
                  "2.4",
                  "5.7"
                ],
                [
                  "29",
                  "Spain",
                  "2024",
                  "2.1",
                  "3.3"
                ]
              ],
              "shape": {
                "columns": 4,
                "rows": 30
              }
            },
            "text/html": [
              "<div>\n",
              "<style scoped>\n",
              "    .dataframe tbody tr th:only-of-type {\n",
              "        vertical-align: middle;\n",
              "    }\n",
              "\n",
              "    .dataframe tbody tr th {\n",
              "        vertical-align: top;\n",
              "    }\n",
              "\n",
              "    .dataframe thead th {\n",
              "        text-align: right;\n",
              "    }\n",
              "</style>\n",
              "<table border=\"1\" class=\"dataframe\">\n",
              "  <thead>\n",
              "    <tr style=\"text-align: right;\">\n",
              "      <th></th>\n",
              "      <th>Country</th>\n",
              "      <th>Year</th>\n",
              "      <th>GDP Growth</th>\n",
              "      <th>CPI</th>\n",
              "    </tr>\n",
              "  </thead>\n",
              "  <tbody>\n",
              "    <tr>\n",
              "      <th>0</th>\n",
              "      <td>USA</td>\n",
              "      <td>2015</td>\n",
              "      <td>2.6</td>\n",
              "      <td>0.1</td>\n",
              "    </tr>\n",
              "    <tr>\n",
              "      <th>1</th>\n",
              "      <td>USA</td>\n",
              "      <td>2016</td>\n",
              "      <td>2.9</td>\n",
              "      <td>1.3</td>\n",
              "    </tr>\n",
              "    <tr>\n",
              "      <th>2</th>\n",
              "      <td>USA</td>\n",
              "      <td>2017</td>\n",
              "      <td>2.4</td>\n",
              "      <td>2.1</td>\n",
              "    </tr>\n",
              "    <tr>\n",
              "      <th>3</th>\n",
              "      <td>USA</td>\n",
              "      <td>2018</td>\n",
              "      <td>2.8</td>\n",
              "      <td>2.4</td>\n",
              "    </tr>\n",
              "    <tr>\n",
              "      <th>4</th>\n",
              "      <td>USA</td>\n",
              "      <td>2019</td>\n",
              "      <td>2.3</td>\n",
              "      <td>1.8</td>\n",
              "    </tr>\n",
              "    <tr>\n",
              "      <th>5</th>\n",
              "      <td>USA</td>\n",
              "      <td>2020</td>\n",
              "      <td>2.2</td>\n",
              "      <td>1.2</td>\n",
              "    </tr>\n",
              "    <tr>\n",
              "      <th>6</th>\n",
              "      <td>USA</td>\n",
              "      <td>2021</td>\n",
              "      <td>-3.4</td>\n",
              "      <td>1.4</td>\n",
              "    </tr>\n",
              "    <tr>\n",
              "      <th>7</th>\n",
              "      <td>USA</td>\n",
              "      <td>2022</td>\n",
              "      <td>5.8</td>\n",
              "      <td>2.6</td>\n",
              "    </tr>\n",
              "    <tr>\n",
              "      <th>8</th>\n",
              "      <td>USA</td>\n",
              "      <td>2023</td>\n",
              "      <td>2.2</td>\n",
              "      <td>3.2</td>\n",
              "    </tr>\n",
              "    <tr>\n",
              "      <th>9</th>\n",
              "      <td>USA</td>\n",
              "      <td>2024</td>\n",
              "      <td>2.5</td>\n",
              "      <td>3.0</td>\n",
              "    </tr>\n",
              "    <tr>\n",
              "      <th>10</th>\n",
              "      <td>Germany</td>\n",
              "      <td>2015</td>\n",
              "      <td>1.8</td>\n",
              "      <td>0.3</td>\n",
              "    </tr>\n",
              "    <tr>\n",
              "      <th>11</th>\n",
              "      <td>Germany</td>\n",
              "      <td>2016</td>\n",
              "      <td>2.5</td>\n",
              "      <td>0.5</td>\n",
              "    </tr>\n",
              "    <tr>\n",
              "      <th>12</th>\n",
              "      <td>Germany</td>\n",
              "      <td>2017</td>\n",
              "      <td>2.6</td>\n",
              "      <td>1.7</td>\n",
              "    </tr>\n",
              "    <tr>\n",
              "      <th>13</th>\n",
              "      <td>Germany</td>\n",
              "      <td>2018</td>\n",
              "      <td>1.7</td>\n",
              "      <td>1.4</td>\n",
              "    </tr>\n",
              "    <tr>\n",
              "      <th>14</th>\n",
              "      <td>Germany</td>\n",
              "      <td>2019</td>\n",
              "      <td>0.8</td>\n",
              "      <td>1.5</td>\n",
              "    </tr>\n",
              "    <tr>\n",
              "      <th>15</th>\n",
              "      <td>Germany</td>\n",
              "      <td>2020</td>\n",
              "      <td>-4.6</td>\n",
              "      <td>0.5</td>\n",
              "    </tr>\n",
              "    <tr>\n",
              "      <th>16</th>\n",
              "      <td>Germany</td>\n",
              "      <td>2021</td>\n",
              "      <td>2.8</td>\n",
              "      <td>3.1</td>\n",
              "    </tr>\n",
              "    <tr>\n",
              "      <th>17</th>\n",
              "      <td>Germany</td>\n",
              "      <td>2022</td>\n",
              "      <td>1.9</td>\n",
              "      <td>6.9</td>\n",
              "    </tr>\n",
              "    <tr>\n",
              "      <th>18</th>\n",
              "      <td>Germany</td>\n",
              "      <td>2023</td>\n",
              "      <td>1.3</td>\n",
              "      <td>5.9</td>\n",
              "    </tr>\n",
              "    <tr>\n",
              "      <th>19</th>\n",
              "      <td>Germany</td>\n",
              "      <td>2024</td>\n",
              "      <td>1.5</td>\n",
              "      <td>2.2</td>\n",
              "    </tr>\n",
              "    <tr>\n",
              "      <th>20</th>\n",
              "      <td>Spain</td>\n",
              "      <td>2015</td>\n",
              "      <td>3.6</td>\n",
              "      <td>0.0</td>\n",
              "    </tr>\n",
              "    <tr>\n",
              "      <th>21</th>\n",
              "      <td>Spain</td>\n",
              "      <td>2016</td>\n",
              "      <td>3.2</td>\n",
              "      <td>-0.2</td>\n",
              "    </tr>\n",
              "    <tr>\n",
              "      <th>22</th>\n",
              "      <td>Spain</td>\n",
              "      <td>2017</td>\n",
              "      <td>3.0</td>\n",
              "      <td>1.6</td>\n",
              "    </tr>\n",
              "    <tr>\n",
              "      <th>23</th>\n",
              "      <td>Spain</td>\n",
              "      <td>2018</td>\n",
              "      <td>2.6</td>\n",
              "      <td>1.2</td>\n",
              "    </tr>\n",
              "    <tr>\n",
              "      <th>24</th>\n",
              "      <td>Spain</td>\n",
              "      <td>2019</td>\n",
              "      <td>2.0</td>\n",
              "      <td>0.7</td>\n",
              "    </tr>\n",
              "    <tr>\n",
              "      <th>25</th>\n",
              "      <td>Spain</td>\n",
              "      <td>2020</td>\n",
              "      <td>-10.8</td>\n",
              "      <td>-0.3</td>\n",
              "    </tr>\n",
              "    <tr>\n",
              "      <th>26</th>\n",
              "      <td>Spain</td>\n",
              "      <td>2021</td>\n",
              "      <td>5.5</td>\n",
              "      <td>3.2</td>\n",
              "    </tr>\n",
              "    <tr>\n",
              "      <th>27</th>\n",
              "      <td>Spain</td>\n",
              "      <td>2022</td>\n",
              "      <td>4.7</td>\n",
              "      <td>8.4</td>\n",
              "    </tr>\n",
              "    <tr>\n",
              "      <th>28</th>\n",
              "      <td>Spain</td>\n",
              "      <td>2023</td>\n",
              "      <td>2.4</td>\n",
              "      <td>5.7</td>\n",
              "    </tr>\n",
              "    <tr>\n",
              "      <th>29</th>\n",
              "      <td>Spain</td>\n",
              "      <td>2024</td>\n",
              "      <td>2.1</td>\n",
              "      <td>3.3</td>\n",
              "    </tr>\n",
              "  </tbody>\n",
              "</table>\n",
              "</div>"
            ],
            "text/plain": [
              "    Country  Year  GDP Growth  CPI\n",
              "0       USA  2015         2.6  0.1\n",
              "1       USA  2016         2.9  1.3\n",
              "2       USA  2017         2.4  2.1\n",
              "3       USA  2018         2.8  2.4\n",
              "4       USA  2019         2.3  1.8\n",
              "5       USA  2020         2.2  1.2\n",
              "6       USA  2021        -3.4  1.4\n",
              "7       USA  2022         5.8  2.6\n",
              "8       USA  2023         2.2  3.2\n",
              "9       USA  2024         2.5  3.0\n",
              "10  Germany  2015         1.8  0.3\n",
              "11  Germany  2016         2.5  0.5\n",
              "12  Germany  2017         2.6  1.7\n",
              "13  Germany  2018         1.7  1.4\n",
              "14  Germany  2019         0.8  1.5\n",
              "15  Germany  2020        -4.6  0.5\n",
              "16  Germany  2021         2.8  3.1\n",
              "17  Germany  2022         1.9  6.9\n",
              "18  Germany  2023         1.3  5.9\n",
              "19  Germany  2024         1.5  2.2\n",
              "20    Spain  2015         3.6  0.0\n",
              "21    Spain  2016         3.2 -0.2\n",
              "22    Spain  2017         3.0  1.6\n",
              "23    Spain  2018         2.6  1.2\n",
              "24    Spain  2019         2.0  0.7\n",
              "25    Spain  2020       -10.8 -0.3\n",
              "26    Spain  2021         5.5  3.2\n",
              "27    Spain  2022         4.7  8.4\n",
              "28    Spain  2023         2.4  5.7\n",
              "29    Spain  2024         2.1  3.3"
            ]
          },
          "metadata": {},
          "output_type": "display_data"
        },
        {
          "data": {
            "image/png": "[encoded data removed]",
            "text/plain": [
              "<Figure size 800x500 with 1 Axes>"
            ]
          },
          "metadata": {},
          "output_type": "display_data"
        }
      ],
      "source": [
        "# Importing Seaborn\n",
        "import seaborn as sns\n",
        "\n",
        "# Sample DataFrame for Seaborn Plots\n",
        "years = list(range(2015, 2025))\n",
        "data_economics = {\n",
        "    'Country': (\n",
        "        ['USA'] * len(years) +\n",
        "        ['Germany'] * len(years) +\n",
        "        ['Spain'] * len(years)\n",
        "    ),\n",
        "    'Year': years * 3,\n",
        "    'GDP Growth': (\n",
        "        # USA: Simulated with more realistic variation (including COVID dip and recovery)\n",
        "        [2.6, 2.9, 2.4, 2.8, 2.3, 2.2, -3.4, 5.8, 2.2, 2.5] +\n",
        "        # Germany: Simulated with moderate growth and COVID impact\n",
        "        [1.8, 2.5, 2.6, 1.7, 0.8, -4.6, 2.8, 1.9, 1.3, 1.5] +\n",
        "        # Spain: Simulated with higher volatility and COVID impact\n",
        "        [3.6, 3.2, 3.0, 2.6, 2.0, -10.8, 5.5, 4.7, 2.4, 2.1]\n",
        "    ),\n",
        "    'CPI': (\n",
        "        # USA: Simulated inflation rates\n",
        "        [0.1, 1.3, 2.1, 2.4, 1.8, 1.2, 1.4, 2.6, 3.2, 3.0] +\n",
        "        # Germany: Simulated inflation rates\n",
        "        [0.3, 0.5, 1.7, 1.4, 1.5, 0.5, 3.1, 6.9, 5.9, 2.2] +\n",
        "        # Spain: Simulated inflation rates\n",
        "        [0.0, -0.2, 1.6, 1.2, 0.7, -0.3, 3.2, 8.4, 5.7, 3.3]\n",
        "    )\n",
        "}\n",
        "\n",
        "df_economics = pd.DataFrame(data_economics)\n",
        "display(df_economics)\n",
        "\n",
        "# Creating a box plot to visualize the distribution of CPI by country\n",
        "plt.figure(figsize=(8, 5))\n",
        "sns.boxplot(x='Country', y='CPI', data=df_economics, hue='Country', palette='Set2', legend=False)\n",
        "plt.title('CPI Distribution by Country')\n",
        "plt.show()"
      ]
    },
    {
      "cell_type": "markdown",
      "metadata": {
        "id": "1sFCDsyj7n4W"
      },
      "source": [
        "### **7.6 Pair Plot**\n",
        "\n",
        "Pair plots are a great way to visualize relationships between all numerical variables in an economic dataset."
      ]
    },
    {
      "cell_type": "code",
      "execution_count": 49,
      "metadata": {
        "colab": {
          "base_uri": "https://localhost:8080/",
          "height": 775
        },
        "id": "hx_q_vTm7rJN",
        "outputId": "856c6a63-f7c4-4b8e-d9b0-d72ce0498c76"
      },
      "outputs": [
        {
          "data": {
            "text/plain": [
              "<Figure size 800x500 with 0 Axes>"
            ]
          },
          "metadata": {},
          "output_type": "display_data"
        },
        {
          "data": {
            "image/png": "[encoded data removed]",
            "text/plain": [
              "<Figure size 863.875x750 with 12 Axes>"
            ]
          },
          "metadata": {},
          "output_type": "display_data"
        }
      ],
      "source": [
        "# Creating a pair plot to visualize relationships between economic indicators\n",
        "plt.figure(figsize=(8, 5))\n",
        "sns.pairplot(df_economics, hue='Country', palette='Set1')\n",
        "plt.show()\n"
      ]
    },
    {
      "cell_type": "markdown",
      "metadata": {
        "id": "EqggZVAS7wFY"
      },
      "source": [
        "### **7.7 Heatmap**\n",
        "\n",
        "Heatmaps can visualize correlations between different economic indicators."
      ]
    },
    {
      "cell_type": "code",
      "execution_count": 50,
      "metadata": {
        "colab": {
          "base_uri": "https://localhost:8080/",
          "height": 597
        },
        "id": "9dOS4d7K8EzJ",
        "outputId": "ae936475-55d3-4a73-d409-db5e13f50069"
      },
      "outputs": [
        {
          "data": {
            "image/png": "[encoded data removed]",
            "text/plain": [
              "<Figure size 800x500 with 2 Axes>"
            ]
          },
          "metadata": {},
          "output_type": "display_data"
        }
      ],
      "source": [
        "# Importing necessary libraries\n",
        "import pandas as pd\n",
        "import seaborn as sns\n",
        "import matplotlib.pyplot as plt\n",
        "\n",
        "# Sample DataFrame for Seaborn Plots with More Economic Variables\n",
        "data_economics_extended = {\n",
        "    'Country': ['USA', 'China', 'Germany', 'India', 'Brazil', 'USA', 'China', 'Germany', 'India', 'Brazil'],\n",
        "    'Year': [2020, 2020, 2020, 2020, 2020, 2021, 2021, 2021, 2021, 2021],\n",
        "    'GDP Growth': [2.2, 6.0, 1.5, 4.0, 1.2, 2.3, 6.1, 1.4, 4.8, 1.1],\n",
        "    'CPI': [1.5, 2.9, 1.2, 4.6, 3.8, 1.7, 3.1, 1.5, 5.0, 4.0],\n",
        "    'Unemployment Rate': [3.5, 4.2, 3.1, 7.5, 6.8, 3.6, 2.1, 3.0, 7.2, 6.9],\n",
        "    'Interest Rate': [0.5, 3.0, 0.0, 5.0, 4.5, 0.75, 2.9, 0.1, 5.1, 4.6],\n",
        "    'Inflation Rate': [1.2, 2.5, 1.0, 1.5, 3.2, 1.4, 2.6, 1.1, 3.8, 2.5]\n",
        "}\n",
        "\n",
        "# Creating a DataFrame from the dictionary\n",
        "df_economics_extended = pd.DataFrame(data_economics_extended)\n",
        "\n",
        "# Correlation Heatmap of Economic Indicators\n",
        "plt.figure(figsize=(8, 5))\n",
        "corr = df_economics_extended.drop([\"Country\", \"Year\"], axis=1).corr()\n",
        "sns.heatmap(corr, annot=True, cmap='coolwarm')\n",
        "plt.title('Correlation Heatmap of Economic Indicators')\n",
        "plt.show()\n"
      ]
    }
  ],
  "metadata": {
    "colab": {
      "authorship_tag": "ABX9TyOi/2DjKLe+WhApECs2lzO1",
      "include_colab_link": true,
      "provenance": []
    },
    "kernelspec": {
      "display_name": "css-datascience-2025-py3.13",
      "language": "python",
      "name": "python3"
    },
    "language_info": {
      "codemirror_mode": {
        "name": "ipython",
        "version": 3
      },
      "file_extension": ".py",
      "mimetype": "text/x-python",
      "name": "python",
      "nbconvert_exporter": "python",
      "pygments_lexer": "ipython3",
      "version": "3.13.2"
    }
  },
  "nbformat": 4,
  "nbformat_minor": 0
}
